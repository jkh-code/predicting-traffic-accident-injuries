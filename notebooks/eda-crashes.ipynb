{
 "cells": [
  {
   "cell_type": "markdown",
   "id": "ec99c918",
   "metadata": {},
   "source": [
    "# EDA Crashes"
   ]
  },
  {
   "cell_type": "code",
   "execution_count": 1,
   "id": "5326c7af",
   "metadata": {},
   "outputs": [],
   "source": [
    "import pandas as pd\n",
    "import numpy as np\n",
    "import matplotlib.pyplot as plt\n",
    "\n",
    "from raw_to_transformed_data import get_sql_data\n",
    "\n",
    "pd.set_option(\"display.max_columns\", None)\n",
    "plt.style.use(\"ggplot\")\n",
    "%matplotlib inline"
   ]
  },
  {
   "cell_type": "code",
   "execution_count": 2,
   "id": "633b308b",
   "metadata": {},
   "outputs": [],
   "source": [
    "query_crashes = \"\"\"\n",
    "    SELECT *\n",
    "    FROM crashes;\n",
    "    \"\"\"\n",
    "dbname = \"chi-traffic-accidents\""
   ]
  },
  {
   "cell_type": "code",
   "execution_count": 3,
   "id": "774f6358",
   "metadata": {},
   "outputs": [],
   "source": [
    "df_crashes = get_sql_data(dbname, query_crashes)"
   ]
  },
  {
   "cell_type": "code",
   "execution_count": 7,
   "id": "23884904",
   "metadata": {},
   "outputs": [],
   "source": [
    "df_crashes[\"has_injuries\"] = np.where(df_crashes[\"injuries_total\"]==0, False, True)"
   ]
  },
  {
   "cell_type": "code",
   "execution_count": 8,
   "id": "99706557",
   "metadata": {},
   "outputs": [
    {
     "data": {
      "text/html": [
       "<div>\n",
       "<style scoped>\n",
       "    .dataframe tbody tr th:only-of-type {\n",
       "        vertical-align: middle;\n",
       "    }\n",
       "\n",
       "    .dataframe tbody tr th {\n",
       "        vertical-align: top;\n",
       "    }\n",
       "\n",
       "    .dataframe thead th {\n",
       "        text-align: right;\n",
       "    }\n",
       "</style>\n",
       "<table border=\"1\" class=\"dataframe\">\n",
       "  <thead>\n",
       "    <tr style=\"text-align: right;\">\n",
       "      <th></th>\n",
       "      <th>crash_record_id</th>\n",
       "      <th>crash_date</th>\n",
       "      <th>posted_speed_limit</th>\n",
       "      <th>traffic_control_device</th>\n",
       "      <th>device_condition</th>\n",
       "      <th>weather_condition</th>\n",
       "      <th>lighting_condition</th>\n",
       "      <th>first_crash_type</th>\n",
       "      <th>trafficway_type</th>\n",
       "      <th>alignment</th>\n",
       "      <th>roadway_surface_cond</th>\n",
       "      <th>road_defect</th>\n",
       "      <th>report_type</th>\n",
       "      <th>crash_type</th>\n",
       "      <th>damage</th>\n",
       "      <th>prim_contributory_cause</th>\n",
       "      <th>street_direction</th>\n",
       "      <th>num_units</th>\n",
       "      <th>injuries_total</th>\n",
       "      <th>crash_hour</th>\n",
       "      <th>crash_day_of_week</th>\n",
       "      <th>crash_month</th>\n",
       "      <th>intersection_related_i</th>\n",
       "      <th>hit_and_run_i</th>\n",
       "      <th>lane_cnt</th>\n",
       "      <th>has_injuries</th>\n",
       "    </tr>\n",
       "  </thead>\n",
       "  <tbody>\n",
       "    <tr>\n",
       "      <th>0</th>\n",
       "      <td>7a63945a9bae12c05dee82c1962bf40f23cdd02ca655d7...</td>\n",
       "      <td>2021-08-01 03:42:00</td>\n",
       "      <td>30</td>\n",
       "      <td>NO CONTROLS</td>\n",
       "      <td>NO CONTROLS</td>\n",
       "      <td>CLEAR</td>\n",
       "      <td>DARKNESS, LIGHTED ROAD</td>\n",
       "      <td>FIXED OBJECT</td>\n",
       "      <td>NOT DIVIDED</td>\n",
       "      <td>STRAIGHT AND LEVEL</td>\n",
       "      <td>DRY</td>\n",
       "      <td>UNKNOWN</td>\n",
       "      <td>ON SCENE</td>\n",
       "      <td>NO INJURY / DRIVE AWAY</td>\n",
       "      <td>OVER $1,500</td>\n",
       "      <td>DISREGARDING OTHER TRAFFIC SIGNS</td>\n",
       "      <td>S</td>\n",
       "      <td>2</td>\n",
       "      <td>0.0</td>\n",
       "      <td>3</td>\n",
       "      <td>1</td>\n",
       "      <td>8</td>\n",
       "      <td>None</td>\n",
       "      <td>None</td>\n",
       "      <td>NaN</td>\n",
       "      <td>False</td>\n",
       "    </tr>\n",
       "    <tr>\n",
       "      <th>1</th>\n",
       "      <td>d207ce72f4348fa06dddcd98628d0dec81d4f195cb8d8b...</td>\n",
       "      <td>2021-08-01 02:41:00</td>\n",
       "      <td>35</td>\n",
       "      <td>TRAFFIC SIGNAL</td>\n",
       "      <td>FUNCTIONING PROPERLY</td>\n",
       "      <td>CLEAR</td>\n",
       "      <td>DARKNESS, LIGHTED ROAD</td>\n",
       "      <td>ANGLE</td>\n",
       "      <td>FOUR WAY</td>\n",
       "      <td>STRAIGHT AND LEVEL</td>\n",
       "      <td>DRY</td>\n",
       "      <td>NO DEFECTS</td>\n",
       "      <td>NOT ON SCENE (DESK REPORT)</td>\n",
       "      <td>INJURY AND / OR TOW DUE TO CRASH</td>\n",
       "      <td>$501 - $1,500</td>\n",
       "      <td>DISREGARDING TRAFFIC SIGNALS</td>\n",
       "      <td>N</td>\n",
       "      <td>2</td>\n",
       "      <td>1.0</td>\n",
       "      <td>2</td>\n",
       "      <td>1</td>\n",
       "      <td>8</td>\n",
       "      <td>Y</td>\n",
       "      <td>Y</td>\n",
       "      <td>NaN</td>\n",
       "      <td>True</td>\n",
       "    </tr>\n",
       "    <tr>\n",
       "      <th>2</th>\n",
       "      <td>bba4db7cfef29230aa5d24f6b8912a2539b5d6f481a94e...</td>\n",
       "      <td>2021-08-01 02:26:00</td>\n",
       "      <td>25</td>\n",
       "      <td>NO CONTROLS</td>\n",
       "      <td>NO CONTROLS</td>\n",
       "      <td>CLEAR</td>\n",
       "      <td>DARKNESS, LIGHTED ROAD</td>\n",
       "      <td>SIDESWIPE SAME DIRECTION</td>\n",
       "      <td>NOT DIVIDED</td>\n",
       "      <td>STRAIGHT AND LEVEL</td>\n",
       "      <td>DRY</td>\n",
       "      <td>UNKNOWN</td>\n",
       "      <td>ON SCENE</td>\n",
       "      <td>INJURY AND / OR TOW DUE TO CRASH</td>\n",
       "      <td>OVER $1,500</td>\n",
       "      <td>IMPROPER TURNING/NO SIGNAL</td>\n",
       "      <td>S</td>\n",
       "      <td>2</td>\n",
       "      <td>0.0</td>\n",
       "      <td>2</td>\n",
       "      <td>1</td>\n",
       "      <td>8</td>\n",
       "      <td>None</td>\n",
       "      <td>None</td>\n",
       "      <td>NaN</td>\n",
       "      <td>False</td>\n",
       "    </tr>\n",
       "    <tr>\n",
       "      <th>3</th>\n",
       "      <td>1e39110c6e01fd2f24e282cd610eb90d6f98a6241ab193...</td>\n",
       "      <td>2021-08-01 02:22:00</td>\n",
       "      <td>30</td>\n",
       "      <td>TRAFFIC SIGNAL</td>\n",
       "      <td>FUNCTIONING PROPERLY</td>\n",
       "      <td>CLEAR</td>\n",
       "      <td>DARKNESS, LIGHTED ROAD</td>\n",
       "      <td>TURNING</td>\n",
       "      <td>OTHER</td>\n",
       "      <td>STRAIGHT AND LEVEL</td>\n",
       "      <td>DRY</td>\n",
       "      <td>NO DEFECTS</td>\n",
       "      <td>ON SCENE</td>\n",
       "      <td>INJURY AND / OR TOW DUE TO CRASH</td>\n",
       "      <td>OVER $1,500</td>\n",
       "      <td>UNABLE TO DETERMINE</td>\n",
       "      <td>S</td>\n",
       "      <td>2</td>\n",
       "      <td>1.0</td>\n",
       "      <td>2</td>\n",
       "      <td>1</td>\n",
       "      <td>8</td>\n",
       "      <td>N</td>\n",
       "      <td>Y</td>\n",
       "      <td>NaN</td>\n",
       "      <td>True</td>\n",
       "    </tr>\n",
       "    <tr>\n",
       "      <th>4</th>\n",
       "      <td>d20d9db8a88fc227d48392b45380ae57898e5fcdcda7db...</td>\n",
       "      <td>2021-08-01 02:08:00</td>\n",
       "      <td>30</td>\n",
       "      <td>NO CONTROLS</td>\n",
       "      <td>NO CONTROLS</td>\n",
       "      <td>CLEAR</td>\n",
       "      <td>DUSK</td>\n",
       "      <td>PARKED MOTOR VEHICLE</td>\n",
       "      <td>ONE-WAY</td>\n",
       "      <td>STRAIGHT AND LEVEL</td>\n",
       "      <td>DRY</td>\n",
       "      <td>NO DEFECTS</td>\n",
       "      <td>ON SCENE</td>\n",
       "      <td>INJURY AND / OR TOW DUE TO CRASH</td>\n",
       "      <td>OVER $1,500</td>\n",
       "      <td>IMPROPER LANE USAGE</td>\n",
       "      <td>W</td>\n",
       "      <td>3</td>\n",
       "      <td>2.0</td>\n",
       "      <td>2</td>\n",
       "      <td>1</td>\n",
       "      <td>8</td>\n",
       "      <td>None</td>\n",
       "      <td>Y</td>\n",
       "      <td>NaN</td>\n",
       "      <td>True</td>\n",
       "    </tr>\n",
       "  </tbody>\n",
       "</table>\n",
       "</div>"
      ],
      "text/plain": [
       "                                     crash_record_id          crash_date  \\\n",
       "0  7a63945a9bae12c05dee82c1962bf40f23cdd02ca655d7... 2021-08-01 03:42:00   \n",
       "1  d207ce72f4348fa06dddcd98628d0dec81d4f195cb8d8b... 2021-08-01 02:41:00   \n",
       "2  bba4db7cfef29230aa5d24f6b8912a2539b5d6f481a94e... 2021-08-01 02:26:00   \n",
       "3  1e39110c6e01fd2f24e282cd610eb90d6f98a6241ab193... 2021-08-01 02:22:00   \n",
       "4  d20d9db8a88fc227d48392b45380ae57898e5fcdcda7db... 2021-08-01 02:08:00   \n",
       "\n",
       "   posted_speed_limit traffic_control_device      device_condition  \\\n",
       "0                  30            NO CONTROLS           NO CONTROLS   \n",
       "1                  35         TRAFFIC SIGNAL  FUNCTIONING PROPERLY   \n",
       "2                  25            NO CONTROLS           NO CONTROLS   \n",
       "3                  30         TRAFFIC SIGNAL  FUNCTIONING PROPERLY   \n",
       "4                  30            NO CONTROLS           NO CONTROLS   \n",
       "\n",
       "  weather_condition      lighting_condition          first_crash_type  \\\n",
       "0             CLEAR  DARKNESS, LIGHTED ROAD              FIXED OBJECT   \n",
       "1             CLEAR  DARKNESS, LIGHTED ROAD                     ANGLE   \n",
       "2             CLEAR  DARKNESS, LIGHTED ROAD  SIDESWIPE SAME DIRECTION   \n",
       "3             CLEAR  DARKNESS, LIGHTED ROAD                   TURNING   \n",
       "4             CLEAR                    DUSK      PARKED MOTOR VEHICLE   \n",
       "\n",
       "  trafficway_type           alignment roadway_surface_cond road_defect  \\\n",
       "0     NOT DIVIDED  STRAIGHT AND LEVEL                  DRY     UNKNOWN   \n",
       "1        FOUR WAY  STRAIGHT AND LEVEL                  DRY  NO DEFECTS   \n",
       "2     NOT DIVIDED  STRAIGHT AND LEVEL                  DRY     UNKNOWN   \n",
       "3           OTHER  STRAIGHT AND LEVEL                  DRY  NO DEFECTS   \n",
       "4         ONE-WAY  STRAIGHT AND LEVEL                  DRY  NO DEFECTS   \n",
       "\n",
       "                  report_type                        crash_type  \\\n",
       "0                    ON SCENE            NO INJURY / DRIVE AWAY   \n",
       "1  NOT ON SCENE (DESK REPORT)  INJURY AND / OR TOW DUE TO CRASH   \n",
       "2                    ON SCENE  INJURY AND / OR TOW DUE TO CRASH   \n",
       "3                    ON SCENE  INJURY AND / OR TOW DUE TO CRASH   \n",
       "4                    ON SCENE  INJURY AND / OR TOW DUE TO CRASH   \n",
       "\n",
       "          damage           prim_contributory_cause street_direction  \\\n",
       "0    OVER $1,500  DISREGARDING OTHER TRAFFIC SIGNS                S   \n",
       "1  $501 - $1,500      DISREGARDING TRAFFIC SIGNALS                N   \n",
       "2    OVER $1,500        IMPROPER TURNING/NO SIGNAL                S   \n",
       "3    OVER $1,500               UNABLE TO DETERMINE                S   \n",
       "4    OVER $1,500               IMPROPER LANE USAGE                W   \n",
       "\n",
       "   num_units  injuries_total  crash_hour  crash_day_of_week  crash_month  \\\n",
       "0          2             0.0           3                  1            8   \n",
       "1          2             1.0           2                  1            8   \n",
       "2          2             0.0           2                  1            8   \n",
       "3          2             1.0           2                  1            8   \n",
       "4          3             2.0           2                  1            8   \n",
       "\n",
       "  intersection_related_i hit_and_run_i  lane_cnt  has_injuries  \n",
       "0                   None          None       NaN         False  \n",
       "1                      Y             Y       NaN          True  \n",
       "2                   None          None       NaN         False  \n",
       "3                      N             Y       NaN          True  \n",
       "4                   None             Y       NaN          True  "
      ]
     },
     "execution_count": 8,
     "metadata": {},
     "output_type": "execute_result"
    }
   ],
   "source": [
    "df_crashes.head()"
   ]
  },
  {
   "cell_type": "code",
   "execution_count": null,
   "id": "52c8fe40",
   "metadata": {},
   "outputs": [],
   "source": []
  },
  {
   "cell_type": "code",
   "execution_count": null,
   "id": "a9272e7e",
   "metadata": {},
   "outputs": [],
   "source": []
  },
  {
   "cell_type": "markdown",
   "id": "accc2bc6",
   "metadata": {},
   "source": [
    "## Number of crashes with injuries"
   ]
  },
  {
   "cell_type": "code",
   "execution_count": 9,
   "id": "f9765322",
   "metadata": {},
   "outputs": [
    {
     "data": {
      "text/plain": [
       "(526569, 26)"
      ]
     },
     "execution_count": 9,
     "metadata": {},
     "output_type": "execute_result"
    }
   ],
   "source": [
    "df_crashes.shape"
   ]
  },
  {
   "cell_type": "code",
   "execution_count": 17,
   "id": "845f9bb8",
   "metadata": {},
   "outputs": [
    {
     "data": {
      "image/png": "[encoded data removed]",
      "text/plain": [
       "<Figure size 576x360 with 1 Axes>"
      ]
     },
     "metadata": {
      "needs_background": "light"
     },
     "output_type": "display_data"
    }
   ],
   "source": [
    "fig, ax = plt.subplots(figsize=(8, 5))\n",
    "(df_crashes[\"has_injuries\"]\n",
    "     .value_counts(dropna=False, normalize=True)\n",
    "     .plot(kind=\"bar\", ax=ax))\n",
    "ax.set_title(\"Percent of Accidents with an Injury\");"
   ]
  },
  {
   "cell_type": "code",
   "execution_count": 22,
   "id": "528dd471",
   "metadata": {},
   "outputs": [
    {
     "data": {
      "text/plain": [
       "False    87.0\n",
       "True     13.0\n",
       "Name: has_injuries, dtype: float64"
      ]
     },
     "execution_count": 22,
     "metadata": {},
     "output_type": "execute_result"
    }
   ],
   "source": [
    "np.round(df_crashes[\"has_injuries\"].value_counts(dropna=False, normalize=True)*100, 0)"
   ]
  },
  {
   "cell_type": "markdown",
   "id": "d10ee1a9",
   "metadata": {},
   "source": [
    "Crashes with injuries"
   ]
  },
  {
   "cell_type": "code",
   "execution_count": 34,
   "id": "bf26dbb9",
   "metadata": {},
   "outputs": [
    {
     "data": {
      "text/plain": [
       "array([ 1,  2,  3,  4,  5,  6,  7,  8,  9, 10, 15, 11, 12, 13, 21, 19, 16])"
      ]
     },
     "execution_count": 34,
     "metadata": {},
     "output_type": "execute_result"
    }
   ],
   "source": [
    "(df_crashes\n",
    "    .loc[df_crashes[\"has_injuries\"]==True, \"injuries_total\"]\n",
    "    .value_counts(dropna=False, normalize=True)).index.values.astype(int)\n",
    "\n",
    "# (df_crashes\n",
    "#     .loc[df_crashes[\"has_injuries\"]==True, \"injuries_total\"]\n",
    "#     .value_counts(dropna=False, normalize=True)).reindex(index=)"
   ]
  },
  {
   "cell_type": "code",
   "execution_count": 43,
   "id": "a80d0b6e",
   "metadata": {},
   "outputs": [
    {
     "data": {
      "text/plain": [
       "1     0.755296\n",
       "2     0.165080\n",
       "3     0.050273\n",
       "4     0.018063\n",
       "5     0.006703\n",
       "6     0.002626\n",
       "7     0.000987\n",
       "8     0.000348\n",
       "9     0.000232\n",
       "10    0.000131\n",
       "11    0.000073\n",
       "12    0.000029\n",
       "13    0.000029\n",
       "15    0.000073\n",
       "16    0.000015\n",
       "19    0.000015\n",
       "21    0.000029\n",
       "Name: injuries_total, dtype: float64"
      ]
     },
     "execution_count": 43,
     "metadata": {},
     "output_type": "execute_result"
    }
   ],
   "source": [
    "perc_num_accidents = (df_crashes\n",
    "    .loc[df_crashes[\"has_injuries\"]==True, \"injuries_total\"]\n",
    "    .value_counts(dropna=False, normalize=True))\n",
    "perc_num_accidents = perc_num_accidents.reindex(\n",
    "    index=perc_num_accidents.index.values.astype(int))\n",
    "perc_num_accidents = perc_num_accidents.sort_index()\n",
    "perc_num_accidents"
   ]
  },
  {
   "cell_type": "code",
   "execution_count": 62,
   "id": "341d99b7",
   "metadata": {},
   "outputs": [
    {
     "data": {
      "image/png": "[encoded data removed]",
      "text/plain": [
       "<Figure size 576x360 with 1 Axes>"
      ]
     },
     "metadata": {
      "needs_background": "light"
     },
     "output_type": "display_data"
    }
   ],
   "source": [
    "fig, ax = plt.subplots(figsize=(8, 5))\n",
    "perc_num_accidents.plot(kind=\"bar\", ax=ax)\n",
    "ax.set_title(\"Percent Accidents with Injuries by Number of Injuries\")\n",
    "ax.set_xlabel(\"Number of Injuries\")\n",
    "ax.set_ylabel(\"Percent of Accidents\");"
   ]
  },
  {
   "cell_type": "code",
   "execution_count": 60,
   "id": "d9eac349",
   "metadata": {},
   "outputs": [
    {
     "data": {
      "image/png": "[encoded data removed]",
      "text/plain": [
       "<Figure size 576x360 with 1 Axes>"
      ]
     },
     "metadata": {
      "needs_background": "light"
     },
     "output_type": "display_data"
    }
   ],
   "source": [
    "fig, ax = plt.subplots(figsize=(8, 5))\n",
    "(df_crashes\n",
    "    .groupby(\"has_injuries\")[\"posted_speed_limit\"]\n",
    "    .mean().plot(kind=\"bar\", ax=ax))\n",
    "ax.set_title(\"Average Posted Speed Limit by Accident Type\")\n",
    "ax.set_xlabel(\"Crash Resulted in Injury\")\n",
    "ax.set_ylabel(\"Posted Speed Limit (mph)\");"
   ]
  },
  {
   "cell_type": "code",
   "execution_count": null,
   "id": "89172b34",
   "metadata": {},
   "outputs": [],
   "source": []
  },
  {
   "cell_type": "code",
   "execution_count": null,
   "id": "b339e768",
   "metadata": {},
   "outputs": [],
   "source": []
  },
  {
   "cell_type": "code",
   "execution_count": null,
   "id": "42f5a65a",
   "metadata": {},
   "outputs": [],
   "source": []
  },
  {
   "cell_type": "code",
   "execution_count": 46,
   "id": "da0ba567",
   "metadata": {},
   "outputs": [
    {
     "data": {
      "text/html": [
       "<div>\n",
       "<style scoped>\n",
       "    .dataframe tbody tr th:only-of-type {\n",
       "        vertical-align: middle;\n",
       "    }\n",
       "\n",
       "    .dataframe tbody tr th {\n",
       "        vertical-align: top;\n",
       "    }\n",
       "\n",
       "    .dataframe thead th {\n",
       "        text-align: right;\n",
       "    }\n",
       "</style>\n",
       "<table border=\"1\" class=\"dataframe\">\n",
       "  <thead>\n",
       "    <tr style=\"text-align: right;\">\n",
       "      <th></th>\n",
       "      <th>crash_record_id</th>\n",
       "      <th>crash_date</th>\n",
       "      <th>posted_speed_limit</th>\n",
       "      <th>traffic_control_device</th>\n",
       "      <th>device_condition</th>\n",
       "      <th>weather_condition</th>\n",
       "      <th>lighting_condition</th>\n",
       "      <th>first_crash_type</th>\n",
       "      <th>trafficway_type</th>\n",
       "      <th>alignment</th>\n",
       "      <th>roadway_surface_cond</th>\n",
       "      <th>road_defect</th>\n",
       "      <th>report_type</th>\n",
       "      <th>crash_type</th>\n",
       "      <th>damage</th>\n",
       "      <th>prim_contributory_cause</th>\n",
       "      <th>street_direction</th>\n",
       "      <th>num_units</th>\n",
       "      <th>injuries_total</th>\n",
       "      <th>crash_hour</th>\n",
       "      <th>crash_day_of_week</th>\n",
       "      <th>crash_month</th>\n",
       "      <th>intersection_related_i</th>\n",
       "      <th>hit_and_run_i</th>\n",
       "      <th>lane_cnt</th>\n",
       "      <th>has_injuries</th>\n",
       "    </tr>\n",
       "  </thead>\n",
       "  <tbody>\n",
       "    <tr>\n",
       "      <th>0</th>\n",
       "      <td>7a63945a9bae12c05dee82c1962bf40f23cdd02ca655d7...</td>\n",
       "      <td>2021-08-01 03:42:00</td>\n",
       "      <td>30</td>\n",
       "      <td>NO CONTROLS</td>\n",
       "      <td>NO CONTROLS</td>\n",
       "      <td>CLEAR</td>\n",
       "      <td>DARKNESS, LIGHTED ROAD</td>\n",
       "      <td>FIXED OBJECT</td>\n",
       "      <td>NOT DIVIDED</td>\n",
       "      <td>STRAIGHT AND LEVEL</td>\n",
       "      <td>DRY</td>\n",
       "      <td>UNKNOWN</td>\n",
       "      <td>ON SCENE</td>\n",
       "      <td>NO INJURY / DRIVE AWAY</td>\n",
       "      <td>OVER $1,500</td>\n",
       "      <td>DISREGARDING OTHER TRAFFIC SIGNS</td>\n",
       "      <td>S</td>\n",
       "      <td>2</td>\n",
       "      <td>0.0</td>\n",
       "      <td>3</td>\n",
       "      <td>1</td>\n",
       "      <td>8</td>\n",
       "      <td>None</td>\n",
       "      <td>None</td>\n",
       "      <td>NaN</td>\n",
       "      <td>False</td>\n",
       "    </tr>\n",
       "    <tr>\n",
       "      <th>1</th>\n",
       "      <td>d207ce72f4348fa06dddcd98628d0dec81d4f195cb8d8b...</td>\n",
       "      <td>2021-08-01 02:41:00</td>\n",
       "      <td>35</td>\n",
       "      <td>TRAFFIC SIGNAL</td>\n",
       "      <td>FUNCTIONING PROPERLY</td>\n",
       "      <td>CLEAR</td>\n",
       "      <td>DARKNESS, LIGHTED ROAD</td>\n",
       "      <td>ANGLE</td>\n",
       "      <td>FOUR WAY</td>\n",
       "      <td>STRAIGHT AND LEVEL</td>\n",
       "      <td>DRY</td>\n",
       "      <td>NO DEFECTS</td>\n",
       "      <td>NOT ON SCENE (DESK REPORT)</td>\n",
       "      <td>INJURY AND / OR TOW DUE TO CRASH</td>\n",
       "      <td>$501 - $1,500</td>\n",
       "      <td>DISREGARDING TRAFFIC SIGNALS</td>\n",
       "      <td>N</td>\n",
       "      <td>2</td>\n",
       "      <td>1.0</td>\n",
       "      <td>2</td>\n",
       "      <td>1</td>\n",
       "      <td>8</td>\n",
       "      <td>Y</td>\n",
       "      <td>Y</td>\n",
       "      <td>NaN</td>\n",
       "      <td>True</td>\n",
       "    </tr>\n",
       "    <tr>\n",
       "      <th>2</th>\n",
       "      <td>bba4db7cfef29230aa5d24f6b8912a2539b5d6f481a94e...</td>\n",
       "      <td>2021-08-01 02:26:00</td>\n",
       "      <td>25</td>\n",
       "      <td>NO CONTROLS</td>\n",
       "      <td>NO CONTROLS</td>\n",
       "      <td>CLEAR</td>\n",
       "      <td>DARKNESS, LIGHTED ROAD</td>\n",
       "      <td>SIDESWIPE SAME DIRECTION</td>\n",
       "      <td>NOT DIVIDED</td>\n",
       "      <td>STRAIGHT AND LEVEL</td>\n",
       "      <td>DRY</td>\n",
       "      <td>UNKNOWN</td>\n",
       "      <td>ON SCENE</td>\n",
       "      <td>INJURY AND / OR TOW DUE TO CRASH</td>\n",
       "      <td>OVER $1,500</td>\n",
       "      <td>IMPROPER TURNING/NO SIGNAL</td>\n",
       "      <td>S</td>\n",
       "      <td>2</td>\n",
       "      <td>0.0</td>\n",
       "      <td>2</td>\n",
       "      <td>1</td>\n",
       "      <td>8</td>\n",
       "      <td>None</td>\n",
       "      <td>None</td>\n",
       "      <td>NaN</td>\n",
       "      <td>False</td>\n",
       "    </tr>\n",
       "    <tr>\n",
       "      <th>3</th>\n",
       "      <td>1e39110c6e01fd2f24e282cd610eb90d6f98a6241ab193...</td>\n",
       "      <td>2021-08-01 02:22:00</td>\n",
       "      <td>30</td>\n",
       "      <td>TRAFFIC SIGNAL</td>\n",
       "      <td>FUNCTIONING PROPERLY</td>\n",
       "      <td>CLEAR</td>\n",
       "      <td>DARKNESS, LIGHTED ROAD</td>\n",
       "      <td>TURNING</td>\n",
       "      <td>OTHER</td>\n",
       "      <td>STRAIGHT AND LEVEL</td>\n",
       "      <td>DRY</td>\n",
       "      <td>NO DEFECTS</td>\n",
       "      <td>ON SCENE</td>\n",
       "      <td>INJURY AND / OR TOW DUE TO CRASH</td>\n",
       "      <td>OVER $1,500</td>\n",
       "      <td>UNABLE TO DETERMINE</td>\n",
       "      <td>S</td>\n",
       "      <td>2</td>\n",
       "      <td>1.0</td>\n",
       "      <td>2</td>\n",
       "      <td>1</td>\n",
       "      <td>8</td>\n",
       "      <td>N</td>\n",
       "      <td>Y</td>\n",
       "      <td>NaN</td>\n",
       "      <td>True</td>\n",
       "    </tr>\n",
       "    <tr>\n",
       "      <th>4</th>\n",
       "      <td>d20d9db8a88fc227d48392b45380ae57898e5fcdcda7db...</td>\n",
       "      <td>2021-08-01 02:08:00</td>\n",
       "      <td>30</td>\n",
       "      <td>NO CONTROLS</td>\n",
       "      <td>NO CONTROLS</td>\n",
       "      <td>CLEAR</td>\n",
       "      <td>DUSK</td>\n",
       "      <td>PARKED MOTOR VEHICLE</td>\n",
       "      <td>ONE-WAY</td>\n",
       "      <td>STRAIGHT AND LEVEL</td>\n",
       "      <td>DRY</td>\n",
       "      <td>NO DEFECTS</td>\n",
       "      <td>ON SCENE</td>\n",
       "      <td>INJURY AND / OR TOW DUE TO CRASH</td>\n",
       "      <td>OVER $1,500</td>\n",
       "      <td>IMPROPER LANE USAGE</td>\n",
       "      <td>W</td>\n",
       "      <td>3</td>\n",
       "      <td>2.0</td>\n",
       "      <td>2</td>\n",
       "      <td>1</td>\n",
       "      <td>8</td>\n",
       "      <td>None</td>\n",
       "      <td>Y</td>\n",
       "      <td>NaN</td>\n",
       "      <td>True</td>\n",
       "    </tr>\n",
       "  </tbody>\n",
       "</table>\n",
       "</div>"
      ],
      "text/plain": [
       "                                     crash_record_id          crash_date  \\\n",
       "0  7a63945a9bae12c05dee82c1962bf40f23cdd02ca655d7... 2021-08-01 03:42:00   \n",
       "1  d207ce72f4348fa06dddcd98628d0dec81d4f195cb8d8b... 2021-08-01 02:41:00   \n",
       "2  bba4db7cfef29230aa5d24f6b8912a2539b5d6f481a94e... 2021-08-01 02:26:00   \n",
       "3  1e39110c6e01fd2f24e282cd610eb90d6f98a6241ab193... 2021-08-01 02:22:00   \n",
       "4  d20d9db8a88fc227d48392b45380ae57898e5fcdcda7db... 2021-08-01 02:08:00   \n",
       "\n",
       "   posted_speed_limit traffic_control_device      device_condition  \\\n",
       "0                  30            NO CONTROLS           NO CONTROLS   \n",
       "1                  35         TRAFFIC SIGNAL  FUNCTIONING PROPERLY   \n",
       "2                  25            NO CONTROLS           NO CONTROLS   \n",
       "3                  30         TRAFFIC SIGNAL  FUNCTIONING PROPERLY   \n",
       "4                  30            NO CONTROLS           NO CONTROLS   \n",
       "\n",
       "  weather_condition      lighting_condition          first_crash_type  \\\n",
       "0             CLEAR  DARKNESS, LIGHTED ROAD              FIXED OBJECT   \n",
       "1             CLEAR  DARKNESS, LIGHTED ROAD                     ANGLE   \n",
       "2             CLEAR  DARKNESS, LIGHTED ROAD  SIDESWIPE SAME DIRECTION   \n",
       "3             CLEAR  DARKNESS, LIGHTED ROAD                   TURNING   \n",
       "4             CLEAR                    DUSK      PARKED MOTOR VEHICLE   \n",
       "\n",
       "  trafficway_type           alignment roadway_surface_cond road_defect  \\\n",
       "0     NOT DIVIDED  STRAIGHT AND LEVEL                  DRY     UNKNOWN   \n",
       "1        FOUR WAY  STRAIGHT AND LEVEL                  DRY  NO DEFECTS   \n",
       "2     NOT DIVIDED  STRAIGHT AND LEVEL                  DRY     UNKNOWN   \n",
       "3           OTHER  STRAIGHT AND LEVEL                  DRY  NO DEFECTS   \n",
       "4         ONE-WAY  STRAIGHT AND LEVEL                  DRY  NO DEFECTS   \n",
       "\n",
       "                  report_type                        crash_type  \\\n",
       "0                    ON SCENE            NO INJURY / DRIVE AWAY   \n",
       "1  NOT ON SCENE (DESK REPORT)  INJURY AND / OR TOW DUE TO CRASH   \n",
       "2                    ON SCENE  INJURY AND / OR TOW DUE TO CRASH   \n",
       "3                    ON SCENE  INJURY AND / OR TOW DUE TO CRASH   \n",
       "4                    ON SCENE  INJURY AND / OR TOW DUE TO CRASH   \n",
       "\n",
       "          damage           prim_contributory_cause street_direction  \\\n",
       "0    OVER $1,500  DISREGARDING OTHER TRAFFIC SIGNS                S   \n",
       "1  $501 - $1,500      DISREGARDING TRAFFIC SIGNALS                N   \n",
       "2    OVER $1,500        IMPROPER TURNING/NO SIGNAL                S   \n",
       "3    OVER $1,500               UNABLE TO DETERMINE                S   \n",
       "4    OVER $1,500               IMPROPER LANE USAGE                W   \n",
       "\n",
       "   num_units  injuries_total  crash_hour  crash_day_of_week  crash_month  \\\n",
       "0          2             0.0           3                  1            8   \n",
       "1          2             1.0           2                  1            8   \n",
       "2          2             0.0           2                  1            8   \n",
       "3          2             1.0           2                  1            8   \n",
       "4          3             2.0           2                  1            8   \n",
       "\n",
       "  intersection_related_i hit_and_run_i  lane_cnt  has_injuries  \n",
       "0                   None          None       NaN         False  \n",
       "1                      Y             Y       NaN          True  \n",
       "2                   None          None       NaN         False  \n",
       "3                      N             Y       NaN          True  \n",
       "4                   None             Y       NaN          True  "
      ]
     },
     "execution_count": 46,
     "metadata": {},
     "output_type": "execute_result"
    }
   ],
   "source": [
    "df_crashes.head()"
   ]
  },
  {
   "cell_type": "code",
   "execution_count": null,
   "id": "d544815c",
   "metadata": {},
   "outputs": [],
   "source": []
  },
  {
   "cell_type": "code",
   "execution_count": null,
   "id": "a59c2259",
   "metadata": {},
   "outputs": [],
   "source": []
  },
  {
   "cell_type": "code",
   "execution_count": null,
   "id": "c704357a",
   "metadata": {},
   "outputs": [],
   "source": []
  },
  {
   "cell_type": "code",
   "execution_count": null,
   "id": "d3478502",
   "metadata": {},
   "outputs": [],
   "source": []
  },
  {
   "cell_type": "code",
   "execution_count": null,
   "id": "03e810fd",
   "metadata": {},
   "outputs": [],
   "source": []
  },
  {
   "cell_type": "code",
   "execution_count": null,
   "id": "0d703836",
   "metadata": {},
   "outputs": [],
   "source": []
  },
  {
   "cell_type": "code",
   "execution_count": 51,
   "id": "9210154d",
   "metadata": {},
   "outputs": [
    {
     "data": {
      "text/html": [
       "<div>\n",
       "<style scoped>\n",
       "    .dataframe tbody tr th:only-of-type {\n",
       "        vertical-align: middle;\n",
       "    }\n",
       "\n",
       "    .dataframe tbody tr th {\n",
       "        vertical-align: top;\n",
       "    }\n",
       "\n",
       "    .dataframe thead th {\n",
       "        text-align: right;\n",
       "    }\n",
       "</style>\n",
       "<table border=\"1\" class=\"dataframe\">\n",
       "  <thead>\n",
       "    <tr style=\"text-align: right;\">\n",
       "      <th></th>\n",
       "      <th>views</th>\n",
       "      <th>orders</th>\n",
       "    </tr>\n",
       "  </thead>\n",
       "  <tbody>\n",
       "    <tr>\n",
       "      <th>0</th>\n",
       "      <td>23</td>\n",
       "      <td>123</td>\n",
       "    </tr>\n",
       "    <tr>\n",
       "      <th>1</th>\n",
       "      <td>135</td>\n",
       "      <td>500</td>\n",
       "    </tr>\n",
       "    <tr>\n",
       "      <th>2</th>\n",
       "      <td>3</td>\n",
       "      <td>1</td>\n",
       "    </tr>\n",
       "  </tbody>\n",
       "</table>\n",
       "</div>"
      ],
      "text/plain": [
       "   views  orders\n",
       "0     23     123\n",
       "1    135     500\n",
       "2      3       1"
      ]
     },
     "execution_count": 51,
     "metadata": {},
     "output_type": "execute_result"
    }
   ],
   "source": [
    "groups = [[23,135,3], [123,500,1]]\n",
    "group_labels = ['views', 'orders']\n",
    "\n",
    "# Convert data to pandas DataFrame.\n",
    "df = pd.DataFrame(groups, index=group_labels).T\n",
    "df"
   ]
  },
  {
   "cell_type": "code",
   "execution_count": 53,
   "id": "be1b9933",
   "metadata": {},
   "outputs": [
    {
     "data": {
      "text/html": [
       "<div>\n",
       "<style scoped>\n",
       "    .dataframe tbody tr th:only-of-type {\n",
       "        vertical-align: middle;\n",
       "    }\n",
       "\n",
       "    .dataframe tbody tr th {\n",
       "        vertical-align: top;\n",
       "    }\n",
       "\n",
       "    .dataframe thead th {\n",
       "        text-align: right;\n",
       "    }\n",
       "</style>\n",
       "<table border=\"1\" class=\"dataframe\">\n",
       "  <thead>\n",
       "    <tr style=\"text-align: right;\">\n",
       "      <th></th>\n",
       "      <th>average</th>\n",
       "      <th>min</th>\n",
       "      <th>max</th>\n",
       "    </tr>\n",
       "  </thead>\n",
       "  <tbody>\n",
       "    <tr>\n",
       "      <th>views</th>\n",
       "      <td>53.666667</td>\n",
       "      <td>3</td>\n",
       "      <td>135</td>\n",
       "    </tr>\n",
       "    <tr>\n",
       "      <th>orders</th>\n",
       "      <td>208.000000</td>\n",
       "      <td>1</td>\n",
       "      <td>500</td>\n",
       "    </tr>\n",
       "  </tbody>\n",
       "</table>\n",
       "</div>"
      ],
      "text/plain": [
       "           average  min  max\n",
       "views    53.666667    3  135\n",
       "orders  208.000000    1  500"
      ]
     },
     "execution_count": 53,
     "metadata": {},
     "output_type": "execute_result"
    }
   ],
   "source": [
    "pd.concat(\n",
    "    [df.mean().rename('average'), df.min().rename('min'), \n",
    "     df.max().rename('max')],\n",
    "    axis=1)"
   ]
  },
  {
   "cell_type": "code",
   "execution_count": 54,
   "id": "75499a89",
   "metadata": {},
   "outputs": [
    {
     "data": {
      "text/plain": [
       "<AxesSubplot:>"
      ]
     },
     "execution_count": 54,
     "metadata": {},
     "output_type": "execute_result"
    },
    {
     "data": {
      "image/png": "[encoded data removed]",
      "text/plain": [
       "<Figure size 432x288 with 1 Axes>"
      ]
     },
     "metadata": {
      "needs_background": "light"
     },
     "output_type": "display_data"
    }
   ],
   "source": [
    "pd.concat(\n",
    "    [df.mean().rename('average'), df.min().rename('min'), \n",
    "     df.max().rename('max')],\n",
    "    axis=1).plot.bar()"
   ]
  },
  {
   "cell_type": "code",
   "execution_count": null,
   "id": "fd7cb39b",
   "metadata": {},
   "outputs": [],
   "source": []
  },
  {
   "cell_type": "code",
   "execution_count": null,
   "id": "aa1ef2bd",
   "metadata": {},
   "outputs": [],
   "source": []
  },
  {
   "cell_type": "code",
   "execution_count": null,
   "id": "7a710a3d",
   "metadata": {},
   "outputs": [],
   "source": []
  },
  {
   "cell_type": "code",
   "execution_count": null,
   "id": "dd8c9460",
   "metadata": {},
   "outputs": [],
   "source": []
  }
 ],
 "metadata": {
  "kernelspec": {
   "display_name": "Python 3",
   "language": "python",
   "name": "python3"
  },
  "language_info": {
   "codemirror_mode": {
    "name": "ipython",
    "version": 3
   },
   "file_extension": ".py",
   "mimetype": "text/x-python",
   "name": "python",
   "nbconvert_exporter": "python",
   "pygments_lexer": "ipython3",
   "version": "3.8.10"
  }
 },
 "nbformat": 4,
 "nbformat_minor": 5
}
