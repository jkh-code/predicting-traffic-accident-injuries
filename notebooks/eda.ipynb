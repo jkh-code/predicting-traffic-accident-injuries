{
 "cells": [
  {
   "cell_type": "markdown",
   "id": "14375742",
   "metadata": {},
   "source": [
    "# EDA"
   ]
  },
  {
   "cell_type": "code",
   "execution_count": 2,
   "id": "868a1c90",
   "metadata": {},
   "outputs": [],
   "source": [
    "import pandas as pd\n",
    "import numpy as np\n",
    "import matplotlib.pyplot as plt\n",
    "\n",
    "from raw_to_transformed_data import get_sql_data\n",
    "\n",
    "plt.style.use(\"ggplot\")\n",
    "%matplotlib inline"
   ]
  },
  {
   "cell_type": "code",
   "execution_count": 4,
   "id": "a6d57ad8",
   "metadata": {},
   "outputs": [],
   "source": [
    "query_crashes = \"\"\"\n",
    "    SELECT *\n",
    "    FROM crashes;\n",
    "    \"\"\"\n",
    "query_people = \"\"\"\n",
    "    SELECT *\n",
    "    FROM people;\n",
    "    \"\"\"\n",
    "dbname = \"chi-traffic-accidents\""
   ]
  },
  {
   "cell_type": "code",
   "execution_count": null,
   "id": "ea824362",
   "metadata": {},
   "outputs": [],
   "source": [
    "df_crashes = get_sql_data(dbname, query_crashes)\n",
    "df_crashes.head()"
   ]
  },
  {
   "cell_type": "code",
   "execution_count": null,
   "id": "3329617a",
   "metadata": {},
   "outputs": [],
   "source": []
  },
  {
   "cell_type": "code",
   "execution_count": null,
   "id": "348e8ef9",
   "metadata": {},
   "outputs": [],
   "source": []
  },
  {
   "cell_type": "code",
   "execution_count": null,
   "id": "08359d21",
   "metadata": {},
   "outputs": [],
   "source": []
  },
  {
   "cell_type": "code",
   "execution_count": null,
   "id": "fb0cf6ea",
   "metadata": {},
   "outputs": [],
   "source": []
  },
  {
   "cell_type": "code",
   "execution_count": null,
   "id": "26d25330",
   "metadata": {},
   "outputs": [],
   "source": []
  }
 ],
 "metadata": {
  "kernelspec": {
   "display_name": "Python 3",
   "language": "python",
   "name": "python3"
  },
  "language_info": {
   "codemirror_mode": {
    "name": "ipython",
    "version": 3
   },
   "file_extension": ".py",
   "mimetype": "text/x-python",
   "name": "python",
   "nbconvert_exporter": "python",
   "pygments_lexer": "ipython3",
   "version": "3.8.10"
  }
 },
 "nbformat": 4,
 "nbformat_minor": 5
}
