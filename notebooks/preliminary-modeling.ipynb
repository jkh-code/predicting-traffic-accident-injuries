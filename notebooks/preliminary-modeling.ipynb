{
 "cells": [
  {
   "cell_type": "markdown",
   "id": "6ee59335",
   "metadata": {},
   "source": [
    "# Preliminary Modeling"
   ]
  },
  {
   "cell_type": "code",
   "execution_count": 19,
   "id": "bf0e9b67",
   "metadata": {},
   "outputs": [],
   "source": [
    "import pandas as pd\n",
    "import numpy as np\n",
    "\n",
    "from sklearn.preprocessing import OneHotEncoder\n",
    "from sklearn.model_selection import train_test_split\n",
    "from sklearn.linear_model import LinearRegression\n",
    "from sklearn.ensemble import RandomForestRegressor, GradientBoostingRegressor\n",
    "from sklearn.metrics import mean_squared_error\n",
    "\n",
    "from raw_to_transformed_data import get_sql_data"
   ]
  },
  {
   "cell_type": "code",
   "execution_count": null,
   "id": "b897bf18",
   "metadata": {},
   "outputs": [],
   "source": []
  },
  {
   "cell_type": "markdown",
   "id": "67416300",
   "metadata": {},
   "source": [
    "## Importing data"
   ]
  },
  {
   "cell_type": "code",
   "execution_count": 3,
   "id": "97000db1",
   "metadata": {},
   "outputs": [],
   "source": [
    "query_crashes = \"\"\"\n",
    "    SELECT *\n",
    "    FROM crashes;\n",
    "    \"\"\"\n",
    "dbname = \"chi-traffic-accidents\""
   ]
  },
  {
   "cell_type": "code",
   "execution_count": 4,
   "id": "15dc7f5c",
   "metadata": {},
   "outputs": [],
   "source": [
    "df_crashes = get_sql_data(dbname, query_crashes)"
   ]
  },
  {
   "cell_type": "code",
   "execution_count": 9,
   "id": "5d3a470f",
   "metadata": {},
   "outputs": [],
   "source": [
    "drop_cols = ['crash_record_id', 'crash_date', 'report_type', 'prim_contributory_cause', 'intersection_related_i', 'hit_and_run_i', 'lane_cnt', 'has_injuries']\n",
    "df_crashes = df_crashes.drop(columns=drop_cols)\n",
    "\n",
    "df_crashes = df_crashes.rename(columns={\"crash_day_of_week\": \"crash_day\"})\n"
   ]
  },
  {
   "cell_type": "code",
   "execution_count": 42,
   "id": "7f51db1e",
   "metadata": {},
   "outputs": [
    {
     "name": "stderr",
     "output_type": "stream",
     "text": [
      "<ipython-input-42-0c01ab05e142>:1: SettingWithCopyWarning: \n",
      "A value is trying to be set on a copy of a slice from a DataFrame\n",
      "\n",
      "See the caveats in the documentation: https://pandas.pydata.org/pandas-docs/stable/user_guide/indexing.html#returning-a-view-versus-a-copy\n",
      "  df_crashes[\"street_direction\"][df_crashes[\"street_direction\"].isna()] = df_crashes[\"street_direction\"].mode()[0]\n"
     ]
    }
   ],
   "source": [
    "df_crashes[\"street_direction\"][df_crashes[\"street_direction\"].isna()] = df_crashes[\"street_direction\"].mode()[0]"
   ]
  },
  {
   "cell_type": "code",
   "execution_count": 41,
   "id": "b5927324",
   "metadata": {},
   "outputs": [
    {
     "data": {
      "text/plain": [
       "'W'"
      ]
     },
     "execution_count": 41,
     "metadata": {},
     "output_type": "execute_result"
    }
   ],
   "source": []
  },
  {
   "cell_type": "code",
   "execution_count": null,
   "id": "614e4393",
   "metadata": {},
   "outputs": [],
   "source": []
  },
  {
   "cell_type": "code",
   "execution_count": 22,
   "id": "d397c241",
   "metadata": {},
   "outputs": [],
   "source": [
    "y = df_crashes.pop(\"injuries_total\")"
   ]
  },
  {
   "cell_type": "code",
   "execution_count": 24,
   "id": "e1af9604",
   "metadata": {},
   "outputs": [
    {
     "data": {
      "text/plain": [
       "0    0.0\n",
       "1    1.0\n",
       "2    0.0\n",
       "3    1.0\n",
       "4    2.0\n",
       "Name: injuries_total, dtype: float64"
      ]
     },
     "execution_count": 24,
     "metadata": {},
     "output_type": "execute_result"
    }
   ],
   "source": [
    "y[:5]"
   ]
  },
  {
   "cell_type": "code",
   "execution_count": 25,
   "id": "fae30273",
   "metadata": {},
   "outputs": [],
   "source": [
    "X = df_crashes.copy()"
   ]
  },
  {
   "cell_type": "code",
   "execution_count": 27,
   "id": "e57377c1",
   "metadata": {},
   "outputs": [
    {
     "data": {
      "text/html": [
       "<div>\n",
       "<style scoped>\n",
       "    .dataframe tbody tr th:only-of-type {\n",
       "        vertical-align: middle;\n",
       "    }\n",
       "\n",
       "    .dataframe tbody tr th {\n",
       "        vertical-align: top;\n",
       "    }\n",
       "\n",
       "    .dataframe thead th {\n",
       "        text-align: right;\n",
       "    }\n",
       "</style>\n",
       "<table border=\"1\" class=\"dataframe\">\n",
       "  <thead>\n",
       "    <tr style=\"text-align: right;\">\n",
       "      <th></th>\n",
       "      <th>posted_speed_limit</th>\n",
       "      <th>traffic_control_device</th>\n",
       "      <th>device_condition</th>\n",
       "      <th>weather_condition</th>\n",
       "      <th>lighting_condition</th>\n",
       "      <th>first_crash_type</th>\n",
       "      <th>trafficway_type</th>\n",
       "      <th>alignment</th>\n",
       "      <th>roadway_surface_cond</th>\n",
       "      <th>road_defect</th>\n",
       "      <th>street_direction</th>\n",
       "      <th>num_units</th>\n",
       "      <th>crash_hour</th>\n",
       "      <th>crash_day</th>\n",
       "      <th>crash_month</th>\n",
       "    </tr>\n",
       "  </thead>\n",
       "  <tbody>\n",
       "    <tr>\n",
       "      <th>0</th>\n",
       "      <td>30</td>\n",
       "      <td>NO CONTROLS</td>\n",
       "      <td>NO CONTROLS</td>\n",
       "      <td>CLEAR</td>\n",
       "      <td>DARKNESS, LIGHTED ROAD</td>\n",
       "      <td>FIXED OBJECT</td>\n",
       "      <td>NOT DIVIDED</td>\n",
       "      <td>STRAIGHT AND LEVEL</td>\n",
       "      <td>DRY</td>\n",
       "      <td>UNKNOWN</td>\n",
       "      <td>S</td>\n",
       "      <td>2</td>\n",
       "      <td>3</td>\n",
       "      <td>Sunday</td>\n",
       "      <td>August</td>\n",
       "    </tr>\n",
       "    <tr>\n",
       "      <th>1</th>\n",
       "      <td>35</td>\n",
       "      <td>TRAFFIC SIGNAL</td>\n",
       "      <td>FUNCTIONING PROPERLY</td>\n",
       "      <td>CLEAR</td>\n",
       "      <td>DARKNESS, LIGHTED ROAD</td>\n",
       "      <td>ANGLE</td>\n",
       "      <td>FOUR WAY</td>\n",
       "      <td>STRAIGHT AND LEVEL</td>\n",
       "      <td>DRY</td>\n",
       "      <td>NO DEFECTS</td>\n",
       "      <td>N</td>\n",
       "      <td>2</td>\n",
       "      <td>2</td>\n",
       "      <td>Sunday</td>\n",
       "      <td>August</td>\n",
       "    </tr>\n",
       "    <tr>\n",
       "      <th>2</th>\n",
       "      <td>25</td>\n",
       "      <td>NO CONTROLS</td>\n",
       "      <td>NO CONTROLS</td>\n",
       "      <td>CLEAR</td>\n",
       "      <td>DARKNESS, LIGHTED ROAD</td>\n",
       "      <td>SIDESWIPE SAME DIRECTION</td>\n",
       "      <td>NOT DIVIDED</td>\n",
       "      <td>STRAIGHT AND LEVEL</td>\n",
       "      <td>DRY</td>\n",
       "      <td>UNKNOWN</td>\n",
       "      <td>S</td>\n",
       "      <td>2</td>\n",
       "      <td>2</td>\n",
       "      <td>Sunday</td>\n",
       "      <td>August</td>\n",
       "    </tr>\n",
       "    <tr>\n",
       "      <th>3</th>\n",
       "      <td>30</td>\n",
       "      <td>TRAFFIC SIGNAL</td>\n",
       "      <td>FUNCTIONING PROPERLY</td>\n",
       "      <td>CLEAR</td>\n",
       "      <td>DARKNESS, LIGHTED ROAD</td>\n",
       "      <td>TURNING</td>\n",
       "      <td>OTHER</td>\n",
       "      <td>STRAIGHT AND LEVEL</td>\n",
       "      <td>DRY</td>\n",
       "      <td>NO DEFECTS</td>\n",
       "      <td>S</td>\n",
       "      <td>2</td>\n",
       "      <td>2</td>\n",
       "      <td>Sunday</td>\n",
       "      <td>August</td>\n",
       "    </tr>\n",
       "    <tr>\n",
       "      <th>4</th>\n",
       "      <td>30</td>\n",
       "      <td>NO CONTROLS</td>\n",
       "      <td>NO CONTROLS</td>\n",
       "      <td>CLEAR</td>\n",
       "      <td>DUSK</td>\n",
       "      <td>PARKED MOTOR VEHICLE</td>\n",
       "      <td>ONE-WAY</td>\n",
       "      <td>STRAIGHT AND LEVEL</td>\n",
       "      <td>DRY</td>\n",
       "      <td>NO DEFECTS</td>\n",
       "      <td>W</td>\n",
       "      <td>3</td>\n",
       "      <td>2</td>\n",
       "      <td>Sunday</td>\n",
       "      <td>August</td>\n",
       "    </tr>\n",
       "  </tbody>\n",
       "</table>\n",
       "</div>"
      ],
      "text/plain": [
       "   posted_speed_limit traffic_control_device      device_condition  \\\n",
       "0                  30            NO CONTROLS           NO CONTROLS   \n",
       "1                  35         TRAFFIC SIGNAL  FUNCTIONING PROPERLY   \n",
       "2                  25            NO CONTROLS           NO CONTROLS   \n",
       "3                  30         TRAFFIC SIGNAL  FUNCTIONING PROPERLY   \n",
       "4                  30            NO CONTROLS           NO CONTROLS   \n",
       "\n",
       "  weather_condition      lighting_condition          first_crash_type  \\\n",
       "0             CLEAR  DARKNESS, LIGHTED ROAD              FIXED OBJECT   \n",
       "1             CLEAR  DARKNESS, LIGHTED ROAD                     ANGLE   \n",
       "2             CLEAR  DARKNESS, LIGHTED ROAD  SIDESWIPE SAME DIRECTION   \n",
       "3             CLEAR  DARKNESS, LIGHTED ROAD                   TURNING   \n",
       "4             CLEAR                    DUSK      PARKED MOTOR VEHICLE   \n",
       "\n",
       "  trafficway_type           alignment roadway_surface_cond road_defect  \\\n",
       "0     NOT DIVIDED  STRAIGHT AND LEVEL                  DRY     UNKNOWN   \n",
       "1        FOUR WAY  STRAIGHT AND LEVEL                  DRY  NO DEFECTS   \n",
       "2     NOT DIVIDED  STRAIGHT AND LEVEL                  DRY     UNKNOWN   \n",
       "3           OTHER  STRAIGHT AND LEVEL                  DRY  NO DEFECTS   \n",
       "4         ONE-WAY  STRAIGHT AND LEVEL                  DRY  NO DEFECTS   \n",
       "\n",
       "  street_direction  num_units  crash_hour crash_day crash_month  \n",
       "0                S          2           3    Sunday      August  \n",
       "1                N          2           2    Sunday      August  \n",
       "2                S          2           2    Sunday      August  \n",
       "3                S          2           2    Sunday      August  \n",
       "4                W          3           2    Sunday      August  "
      ]
     },
     "execution_count": 27,
     "metadata": {},
     "output_type": "execute_result"
    }
   ],
   "source": [
    "X[:5]"
   ]
  },
  {
   "cell_type": "code",
   "execution_count": null,
   "id": "eab4f19b",
   "metadata": {},
   "outputs": [],
   "source": []
  },
  {
   "cell_type": "code",
   "execution_count": null,
   "id": "f1264700",
   "metadata": {},
   "outputs": [],
   "source": []
  },
  {
   "cell_type": "markdown",
   "id": "1d6f7924",
   "metadata": {},
   "source": [
    "# Transforming data"
   ]
  },
  {
   "cell_type": "code",
   "execution_count": 21,
   "id": "ce7a95a0",
   "metadata": {},
   "outputs": [],
   "source": [
    "encoder=OneHotEncoder(drop=None, sparse=True)"
   ]
  },
  {
   "cell_type": "code",
   "execution_count": 28,
   "id": "74bbf3fd",
   "metadata": {},
   "outputs": [],
   "source": [
    "onehot_crashes = encoder.fit_transform(X)"
   ]
  },
  {
   "cell_type": "code",
   "execution_count": 29,
   "id": "df76fe63",
   "metadata": {},
   "outputs": [
    {
     "data": {
      "text/plain": [
       "<526569x208 sparse matrix of type '<class 'numpy.float64'>'\n",
       "\twith 7898535 stored elements in Compressed Sparse Row format>"
      ]
     },
     "execution_count": 29,
     "metadata": {},
     "output_type": "execute_result"
    }
   ],
   "source": [
    "onehot_crashes"
   ]
  },
  {
   "cell_type": "code",
   "execution_count": 33,
   "id": "4ad65f45",
   "metadata": {},
   "outputs": [
    {
     "data": {
      "text/plain": [
       "[array([ 0,  1,  2,  3,  4,  5,  6,  7,  9, 10, 11, 12, 14, 15, 18, 20, 22,\n",
       "        23, 24, 25, 26, 29, 30, 31, 32, 33, 34, 35, 36, 38, 39, 40, 45, 49,\n",
       "        50, 55, 60, 63, 65, 70, 99]),\n",
       " array(['BICYCLE CROSSING SIGN', 'DELINEATORS', 'FLASHING CONTROL SIGNAL',\n",
       "        'LANE USE MARKING', 'NO CONTROLS', 'NO PASSING', 'OTHER',\n",
       "        'OTHER RAILROAD CROSSING', 'OTHER REG. SIGN', 'OTHER WARNING SIGN',\n",
       "        'PEDESTRIAN CROSSING SIGN', 'POLICE/FLAGMAN',\n",
       "        'RAILROAD CROSSING GATE', 'RR CROSSING SIGN', 'SCHOOL ZONE',\n",
       "        'STOP SIGN/FLASHER', 'TRAFFIC SIGNAL', 'UNKNOWN', 'YIELD'],\n",
       "       dtype=object),\n",
       " array(['FUNCTIONING IMPROPERLY', 'FUNCTIONING PROPERLY', 'MISSING',\n",
       "        'NO CONTROLS', 'NOT FUNCTIONING', 'OTHER', 'UNKNOWN',\n",
       "        'WORN REFLECTIVE MATERIAL'], dtype=object),\n",
       " array(['BLOWING SAND, SOIL, DIRT', 'BLOWING SNOW', 'CLEAR',\n",
       "        'CLOUDY/OVERCAST', 'FOG/SMOKE/HAZE', 'FREEZING RAIN/DRIZZLE',\n",
       "        'OTHER', 'RAIN', 'SEVERE CROSS WIND GATE', 'SLEET/HAIL', 'SNOW',\n",
       "        'UNKNOWN'], dtype=object),\n",
       " array(['DARKNESS', 'DARKNESS, LIGHTED ROAD', 'DAWN', 'DAYLIGHT', 'DUSK',\n",
       "        'UNKNOWN'], dtype=object),\n",
       " array(['ANGLE', 'ANIMAL', 'FIXED OBJECT', 'HEAD ON', 'OTHER NONCOLLISION',\n",
       "        'OTHER OBJECT', 'OVERTURNED', 'PARKED MOTOR VEHICLE',\n",
       "        'PEDALCYCLIST', 'PEDESTRIAN', 'REAR END', 'REAR TO FRONT',\n",
       "        'REAR TO REAR', 'REAR TO SIDE', 'SIDESWIPE OPPOSITE DIRECTION',\n",
       "        'SIDESWIPE SAME DIRECTION', 'TRAIN', 'TURNING'], dtype=object),\n",
       " array(['ALLEY', 'CENTER TURN LANE', 'DIVIDED - W/MEDIAN (NOT RAISED)',\n",
       "        'DIVIDED - W/MEDIAN BARRIER', 'DRIVEWAY', 'FIVE POINT, OR MORE',\n",
       "        'FOUR WAY', 'L-INTERSECTION', 'NOT DIVIDED', 'NOT REPORTED',\n",
       "        'ONE-WAY', 'OTHER', 'PARKING LOT', 'RAMP', 'ROUNDABOUT',\n",
       "        'T-INTERSECTION', 'TRAFFIC ROUTE', 'UNKNOWN',\n",
       "        'UNKNOWN INTERSECTION TYPE', 'Y-INTERSECTION'], dtype=object),\n",
       " array(['CURVE ON GRADE', 'CURVE ON HILLCREST', 'CURVE, LEVEL',\n",
       "        'STRAIGHT AND LEVEL', 'STRAIGHT ON GRADE', 'STRAIGHT ON HILLCREST'],\n",
       "       dtype=object),\n",
       " array(['DRY', 'ICE', 'OTHER', 'SAND, MUD, DIRT', 'SNOW OR SLUSH',\n",
       "        'UNKNOWN', 'WET'], dtype=object),\n",
       " array(['DEBRIS ON ROADWAY', 'NO DEFECTS', 'OTHER', 'RUT, HOLES',\n",
       "        'SHOULDER DEFECT', 'UNKNOWN', 'WORN SURFACE'], dtype=object),\n",
       " array(['E', 'N', 'S', 'W', None], dtype=object),\n",
       " array([ 1,  2,  3,  4,  5,  6,  7,  8,  9, 10, 11, 12, 14, 15, 16, 18]),\n",
       " array([ 0,  1,  2,  3,  4,  5,  6,  7,  8,  9, 10, 11, 12, 13, 14, 15, 16,\n",
       "        17, 18, 19, 20, 21, 22, 23]),\n",
       " array(['Friday', 'Monday', 'Saturday', 'Sunday', 'Thursday', 'Tuesday',\n",
       "        'Wednesday'], dtype=object),\n",
       " array(['April', 'August', 'December', 'February', 'January', 'July',\n",
       "        'June', 'March', 'May', 'November', 'October', 'September'],\n",
       "       dtype=object)]"
      ]
     },
     "execution_count": 33,
     "metadata": {},
     "output_type": "execute_result"
    }
   ],
   "source": [
    "encoder.categories_"
   ]
  },
  {
   "cell_type": "code",
   "execution_count": 34,
   "id": "786afd5f",
   "metadata": {},
   "outputs": [
    {
     "data": {
      "text/plain": [
       "array([[0., 0., 0., ..., 0., 0., 0.],\n",
       "       [0., 0., 0., ..., 0., 0., 0.],\n",
       "       [0., 0., 0., ..., 0., 0., 0.],\n",
       "       ...,\n",
       "       [0., 0., 0., ..., 0., 0., 0.],\n",
       "       [0., 0., 0., ..., 0., 0., 0.],\n",
       "       [0., 0., 0., ..., 0., 0., 0.]])"
      ]
     },
     "execution_count": 34,
     "metadata": {},
     "output_type": "execute_result"
    }
   ],
   "source": [
    "onehot_crashes.toarray()"
   ]
  },
  {
   "cell_type": "code",
   "execution_count": null,
   "id": "554c4281",
   "metadata": {},
   "outputs": [],
   "source": []
  },
  {
   "cell_type": "code",
   "execution_count": null,
   "id": "7c71a9bc",
   "metadata": {},
   "outputs": [],
   "source": []
  },
  {
   "cell_type": "code",
   "execution_count": null,
   "id": "645b116c",
   "metadata": {},
   "outputs": [],
   "source": []
  },
  {
   "cell_type": "code",
   "execution_count": 20,
   "id": "1a9831ee",
   "metadata": {},
   "outputs": [
    {
     "data": {
      "text/html": [
       "<div>\n",
       "<style scoped>\n",
       "    .dataframe tbody tr th:only-of-type {\n",
       "        vertical-align: middle;\n",
       "    }\n",
       "\n",
       "    .dataframe tbody tr th {\n",
       "        vertical-align: top;\n",
       "    }\n",
       "\n",
       "    .dataframe thead th {\n",
       "        text-align: right;\n",
       "    }\n",
       "</style>\n",
       "<table border=\"1\" class=\"dataframe\">\n",
       "  <thead>\n",
       "    <tr style=\"text-align: right;\">\n",
       "      <th></th>\n",
       "      <th>posted_speed_limit</th>\n",
       "      <th>traffic_control_device</th>\n",
       "      <th>device_condition</th>\n",
       "      <th>weather_condition</th>\n",
       "      <th>lighting_condition</th>\n",
       "      <th>first_crash_type</th>\n",
       "      <th>trafficway_type</th>\n",
       "      <th>alignment</th>\n",
       "      <th>roadway_surface_cond</th>\n",
       "      <th>road_defect</th>\n",
       "      <th>street_direction</th>\n",
       "      <th>num_units</th>\n",
       "      <th>injuries_total</th>\n",
       "      <th>crash_hour</th>\n",
       "      <th>crash_day</th>\n",
       "      <th>crash_month</th>\n",
       "    </tr>\n",
       "  </thead>\n",
       "  <tbody>\n",
       "    <tr>\n",
       "      <th>0</th>\n",
       "      <td>30</td>\n",
       "      <td>NO CONTROLS</td>\n",
       "      <td>NO CONTROLS</td>\n",
       "      <td>CLEAR</td>\n",
       "      <td>DARKNESS, LIGHTED ROAD</td>\n",
       "      <td>FIXED OBJECT</td>\n",
       "      <td>NOT DIVIDED</td>\n",
       "      <td>STRAIGHT AND LEVEL</td>\n",
       "      <td>DRY</td>\n",
       "      <td>UNKNOWN</td>\n",
       "      <td>S</td>\n",
       "      <td>2</td>\n",
       "      <td>0.0</td>\n",
       "      <td>3</td>\n",
       "      <td>Sunday</td>\n",
       "      <td>August</td>\n",
       "    </tr>\n",
       "    <tr>\n",
       "      <th>1</th>\n",
       "      <td>35</td>\n",
       "      <td>TRAFFIC SIGNAL</td>\n",
       "      <td>FUNCTIONING PROPERLY</td>\n",
       "      <td>CLEAR</td>\n",
       "      <td>DARKNESS, LIGHTED ROAD</td>\n",
       "      <td>ANGLE</td>\n",
       "      <td>FOUR WAY</td>\n",
       "      <td>STRAIGHT AND LEVEL</td>\n",
       "      <td>DRY</td>\n",
       "      <td>NO DEFECTS</td>\n",
       "      <td>N</td>\n",
       "      <td>2</td>\n",
       "      <td>1.0</td>\n",
       "      <td>2</td>\n",
       "      <td>Sunday</td>\n",
       "      <td>August</td>\n",
       "    </tr>\n",
       "    <tr>\n",
       "      <th>2</th>\n",
       "      <td>25</td>\n",
       "      <td>NO CONTROLS</td>\n",
       "      <td>NO CONTROLS</td>\n",
       "      <td>CLEAR</td>\n",
       "      <td>DARKNESS, LIGHTED ROAD</td>\n",
       "      <td>SIDESWIPE SAME DIRECTION</td>\n",
       "      <td>NOT DIVIDED</td>\n",
       "      <td>STRAIGHT AND LEVEL</td>\n",
       "      <td>DRY</td>\n",
       "      <td>UNKNOWN</td>\n",
       "      <td>S</td>\n",
       "      <td>2</td>\n",
       "      <td>0.0</td>\n",
       "      <td>2</td>\n",
       "      <td>Sunday</td>\n",
       "      <td>August</td>\n",
       "    </tr>\n",
       "    <tr>\n",
       "      <th>3</th>\n",
       "      <td>30</td>\n",
       "      <td>TRAFFIC SIGNAL</td>\n",
       "      <td>FUNCTIONING PROPERLY</td>\n",
       "      <td>CLEAR</td>\n",
       "      <td>DARKNESS, LIGHTED ROAD</td>\n",
       "      <td>TURNING</td>\n",
       "      <td>OTHER</td>\n",
       "      <td>STRAIGHT AND LEVEL</td>\n",
       "      <td>DRY</td>\n",
       "      <td>NO DEFECTS</td>\n",
       "      <td>S</td>\n",
       "      <td>2</td>\n",
       "      <td>1.0</td>\n",
       "      <td>2</td>\n",
       "      <td>Sunday</td>\n",
       "      <td>August</td>\n",
       "    </tr>\n",
       "    <tr>\n",
       "      <th>4</th>\n",
       "      <td>30</td>\n",
       "      <td>NO CONTROLS</td>\n",
       "      <td>NO CONTROLS</td>\n",
       "      <td>CLEAR</td>\n",
       "      <td>DUSK</td>\n",
       "      <td>PARKED MOTOR VEHICLE</td>\n",
       "      <td>ONE-WAY</td>\n",
       "      <td>STRAIGHT AND LEVEL</td>\n",
       "      <td>DRY</td>\n",
       "      <td>NO DEFECTS</td>\n",
       "      <td>W</td>\n",
       "      <td>3</td>\n",
       "      <td>2.0</td>\n",
       "      <td>2</td>\n",
       "      <td>Sunday</td>\n",
       "      <td>August</td>\n",
       "    </tr>\n",
       "  </tbody>\n",
       "</table>\n",
       "</div>"
      ],
      "text/plain": [
       "   posted_speed_limit traffic_control_device      device_condition  \\\n",
       "0                  30            NO CONTROLS           NO CONTROLS   \n",
       "1                  35         TRAFFIC SIGNAL  FUNCTIONING PROPERLY   \n",
       "2                  25            NO CONTROLS           NO CONTROLS   \n",
       "3                  30         TRAFFIC SIGNAL  FUNCTIONING PROPERLY   \n",
       "4                  30            NO CONTROLS           NO CONTROLS   \n",
       "\n",
       "  weather_condition      lighting_condition          first_crash_type  \\\n",
       "0             CLEAR  DARKNESS, LIGHTED ROAD              FIXED OBJECT   \n",
       "1             CLEAR  DARKNESS, LIGHTED ROAD                     ANGLE   \n",
       "2             CLEAR  DARKNESS, LIGHTED ROAD  SIDESWIPE SAME DIRECTION   \n",
       "3             CLEAR  DARKNESS, LIGHTED ROAD                   TURNING   \n",
       "4             CLEAR                    DUSK      PARKED MOTOR VEHICLE   \n",
       "\n",
       "  trafficway_type           alignment roadway_surface_cond road_defect  \\\n",
       "0     NOT DIVIDED  STRAIGHT AND LEVEL                  DRY     UNKNOWN   \n",
       "1        FOUR WAY  STRAIGHT AND LEVEL                  DRY  NO DEFECTS   \n",
       "2     NOT DIVIDED  STRAIGHT AND LEVEL                  DRY     UNKNOWN   \n",
       "3           OTHER  STRAIGHT AND LEVEL                  DRY  NO DEFECTS   \n",
       "4         ONE-WAY  STRAIGHT AND LEVEL                  DRY  NO DEFECTS   \n",
       "\n",
       "  street_direction  num_units  injuries_total  crash_hour crash_day  \\\n",
       "0                S          2             0.0           3    Sunday   \n",
       "1                N          2             1.0           2    Sunday   \n",
       "2                S          2             0.0           2    Sunday   \n",
       "3                S          2             1.0           2    Sunday   \n",
       "4                W          3             2.0           2    Sunday   \n",
       "\n",
       "  crash_month  \n",
       "0      August  \n",
       "1      August  \n",
       "2      August  \n",
       "3      August  \n",
       "4      August  "
      ]
     },
     "execution_count": 20,
     "metadata": {},
     "output_type": "execute_result"
    }
   ],
   "source": [
    "df_crashes.head()"
   ]
  },
  {
   "cell_type": "code",
   "execution_count": 35,
   "id": "ed9adffd",
   "metadata": {},
   "outputs": [
    {
     "name": "stdout",
     "output_type": "stream",
     "text": [
      "<class 'pandas.core.frame.DataFrame'>\n",
      "RangeIndex: 526569 entries, 0 to 526568\n",
      "Data columns (total 15 columns):\n",
      " #   Column                  Non-Null Count   Dtype \n",
      "---  ------                  --------------   ----- \n",
      " 0   posted_speed_limit      526569 non-null  int64 \n",
      " 1   traffic_control_device  526569 non-null  object\n",
      " 2   device_condition        526569 non-null  object\n",
      " 3   weather_condition       526569 non-null  object\n",
      " 4   lighting_condition      526569 non-null  object\n",
      " 5   first_crash_type        526569 non-null  object\n",
      " 6   trafficway_type         526569 non-null  object\n",
      " 7   alignment               526569 non-null  object\n",
      " 8   roadway_surface_cond    526569 non-null  object\n",
      " 9   road_defect             526569 non-null  object\n",
      " 10  street_direction        526566 non-null  object\n",
      " 11  num_units               526569 non-null  int64 \n",
      " 12  crash_hour              526569 non-null  int64 \n",
      " 13  crash_day               526569 non-null  object\n",
      " 14  crash_month             526569 non-null  object\n",
      "dtypes: int64(3), object(12)\n",
      "memory usage: 60.3+ MB\n"
     ]
    }
   ],
   "source": [
    "df_crashes.info()"
   ]
  }
 ],
 "metadata": {
  "kernelspec": {
   "display_name": "Python 3",
   "language": "python",
   "name": "python3"
  },
  "language_info": {
   "codemirror_mode": {
    "name": "ipython",
    "version": 3
   },
   "file_extension": ".py",
   "mimetype": "text/x-python",
   "name": "python",
   "nbconvert_exporter": "python",
   "pygments_lexer": "ipython3",
   "version": "3.8.10"
  }
 },
 "nbformat": 4,
 "nbformat_minor": 5
}
